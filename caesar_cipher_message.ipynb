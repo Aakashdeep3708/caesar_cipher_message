{
 "cells": [
  {
   "cell_type": "code",
   "execution_count": null,
   "id": "f30b2be4",
   "metadata": {},
   "outputs": [],
   "source": [
    "alphabet=['a','b','c','d','e','f','g','h','i','j','k','l','m','n','o','p','q','r','s','t','u','v','w','x','y','z',\n",
    "          'a','b','c','d','e','f','g','h','i','j','k','l','m','n','o','p','q','r','s','t','u','v','w','x','y','z']\n",
    "\n",
    "repeat_value=True\n",
    "\n",
    "def encrypt(plain_text,shift_para):\n",
    "    coded_text=\"\"\n",
    "    for i in plain_text:\n",
    "        if i in alphabet:\n",
    "            pos=alphabet.index(i)\n",
    "            nw_text=alphabet[pos+shift]\n",
    "            coded_text+=nw_text\n",
    "        else:\n",
    "            coded_text+=i\n",
    "    print(f\"The encoded text is: {coded_text}\")\n",
    "\n",
    "\n",
    "def decrypt(coded_text,shift_para):\n",
    "    decoded_text=\"\"\n",
    "    for i in coded_text:\n",
    "        if i in alphabet:\n",
    "            pos=alphabet.index(i)\n",
    "            nw_text=alphabet[pos-shift]\n",
    "            decoded_text+=nw_text\n",
    "        else:\n",
    "            decoded_text+=i\n",
    "    print(f\"The decoded text is: {decoded_text}\")\n",
    "\n",
    "while repeat_value:\n",
    "    direction=input(\"enter encode for encryption and decode for decryption:\")\n",
    "    text=input(\"enter the message:\").lower()\n",
    "    shift=int(input(\"enter the shift number:\"))\n",
    "    shift%=26\n",
    "    \n",
    "    if direction==\"encode\":    \n",
    "        encrypt(text,shift)  \n",
    "    elif direction==\"decode\":\n",
    "        decrypt(text,shift)\n",
    "    else:\n",
    "        print(\"Please write the correct input\")\n",
    "    \n",
    "    repeat=input('Wanna try again. Type \"yes\" or \"no\":')\n",
    "    if repeat == \"no\":\n",
    "        repeat_value=False\n",
    "        print(\"Thank you\")\n"
   ]
  },
  {
   "cell_type": "code",
   "execution_count": null,
   "id": "d9ec3420",
   "metadata": {},
   "outputs": [],
   "source": []
  }
 ],
 "metadata": {
  "kernelspec": {
   "display_name": "Python 3 (ipykernel)",
   "language": "python",
   "name": "python3"
  },
  "language_info": {
   "codemirror_mode": {
    "name": "ipython",
    "version": 3
   },
   "file_extension": ".py",
   "mimetype": "text/x-python",
   "name": "python",
   "nbconvert_exporter": "python",
   "pygments_lexer": "ipython3",
   "version": "3.11.5"
  }
 },
 "nbformat": 4,
 "nbformat_minor": 5
}
